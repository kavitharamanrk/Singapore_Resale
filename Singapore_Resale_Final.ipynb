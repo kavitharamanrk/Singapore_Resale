{
  "cells": [
    {
      "cell_type": "markdown",
      "source": [
        "# Real Estate - Sale Price Prediction"
      ],
      "metadata": {
        "id": "EliFcK2wCqec"
      }
    },
    {
      "cell_type": "code",
      "execution_count": 1,
      "metadata": {
        "id": "UQApBVCpRsox"
      },
      "outputs": [],
      "source": [
        "# Required Packages\n",
        "import pandas as pd\n",
        "import numpy as np\n",
        "import matplotlib.pyplot as plt\n",
        "import plotly.express as px\n",
        "from scipy import stats\n",
        "from sklearn.preprocessing import LabelEncoder\n",
        "from sklearn.metrics import confusion_matrix, precision_score, recall_score, accuracy_score, f1_score, auc\n",
        "import seaborn as sns\n",
        "import pickle"
      ]
    },
    {
      "cell_type": "markdown",
      "source": [
        "# Read Data"
      ],
      "metadata": {
        "id": "8oc-06JL4vIL"
      }
    },
    {
      "cell_type": "code",
      "execution_count": null,
      "metadata": {
        "id": "DBaIXbUOR6B-"
      },
      "outputs": [],
      "source": [
        "df1=pd.read_csv(\"/content/1990to1999.csv\")\n",
        "df1"
      ]
    },
    {
      "cell_type": "code",
      "execution_count": null,
      "metadata": {
        "id": "jf35OldAKOOy"
      },
      "outputs": [],
      "source": [
        "df1.duplicated(['month','street_name','town','flat_type','block','storey_range','flat_model','floor_area_sqm','lease_commence_date'],\n",
        "                     keep=False)==True"
      ]
    },
    {
      "cell_type": "code",
      "execution_count": null,
      "metadata": {
        "id": "yKSTS1NQcvxY"
      },
      "outputs": [],
      "source": [
        "df2=pd.read_csv(\"/content/2000to2012.csv\")\n",
        "df2"
      ]
    },
    {
      "cell_type": "code",
      "execution_count": null,
      "metadata": {
        "id": "lDYAMCESgj-b"
      },
      "outputs": [],
      "source": [
        "df3=pd.read_csv(\"/content/2012to2014.csv\")\n",
        "df3"
      ]
    },
    {
      "cell_type": "code",
      "execution_count": null,
      "metadata": {
        "id": "AKZSNOulgkUZ"
      },
      "outputs": [],
      "source": [
        "df4=pd.read_csv(\"/content/2015to2016.csv\")\n",
        "df4"
      ]
    },
    {
      "cell_type": "code",
      "execution_count": null,
      "metadata": {
        "id": "gNaxbuQYgkon"
      },
      "outputs": [],
      "source": [
        "df5=pd.read_csv(\"/content/2017to2023.csv\")\n",
        "df5"
      ]
    },
    {
      "cell_type": "markdown",
      "metadata": {
        "id": "FLuc6PlVm_sP"
      },
      "source": [
        "# Merge all dataset"
      ]
    },
    {
      "cell_type": "code",
      "execution_count": null,
      "metadata": {
        "id": "2hqV43rzkigv"
      },
      "outputs": [],
      "source": [
        "df6=pd.merge(df1,df2, how=\"outer\")\n",
        "df6=pd.merge(df6,df3, how=\"outer\")\n",
        "df6=pd.merge(df6,df4, how=\"outer\")\n",
        "df6.head(3)"
      ]
    },
    {
      "cell_type": "code",
      "execution_count": null,
      "metadata": {
        "id": "OxlfhOaTffhF"
      },
      "outputs": [],
      "source": [
        "df6=pd.concat([df6,df5])\n",
        "df6"
      ]
    },
    {
      "cell_type": "code",
      "source": [
        "df6.to_csv(\"/content/realestate.csv\")"
      ],
      "metadata": {
        "id": "SfmAJ2IczG29"
      },
      "execution_count": null,
      "outputs": []
    },
    {
      "cell_type": "code",
      "execution_count": 2,
      "metadata": {
        "id": "SgA-6DPJl43u",
        "colab": {
          "base_uri": "https://localhost:8080/"
        },
        "outputId": "e60b9d1f-32f7-41e4-9ff0-c99d78765e2a"
      },
      "outputs": [
        {
          "output_type": "stream",
          "name": "stderr",
          "text": [
            "<ipython-input-2-1964cebd2461>:1: DtypeWarning: Columns (11) have mixed types. Specify dtype option on import or set low_memory=False.\n",
            "  df_realestate=pd.read_csv(\"/content/realestate.csv\")\n"
          ]
        }
      ],
      "source": [
        "df_realestate=pd.read_csv(\"/content/realestate.csv\")"
      ]
    },
    {
      "cell_type": "code",
      "source": [
        "df_realestate.head(3)"
      ],
      "metadata": {
        "id": "crqmh02PIPCA"
      },
      "execution_count": null,
      "outputs": []
    },
    {
      "cell_type": "markdown",
      "metadata": {
        "id": "VbvJDcbrWz0e"
      },
      "source": [
        "# Pre processing / Data Cleaning"
      ]
    },
    {
      "cell_type": "code",
      "source": [
        "df_realestate.info()"
      ],
      "metadata": {
        "id": "4pRgo4ESBycR"
      },
      "execution_count": null,
      "outputs": []
    },
    {
      "cell_type": "markdown",
      "source": [
        "# Finding Null values"
      ],
      "metadata": {
        "id": "OlZZU906D7xp"
      }
    },
    {
      "cell_type": "code",
      "source": [
        "null_data=df_realestate.isnull().mean()*100\n",
        "null_data"
      ],
      "metadata": {
        "id": "5uaTMGBOD62k"
      },
      "execution_count": null,
      "outputs": []
    },
    {
      "cell_type": "code",
      "execution_count": 3,
      "metadata": {
        "id": "Tz_iXX28GUgg"
      },
      "outputs": [],
      "source": [
        "# 77% of the data is missing\n",
        "df_realestate.drop(['remaining_lease','Unnamed: 0'],axis=1,inplace=True)"
      ]
    },
    {
      "cell_type": "markdown",
      "source": [
        "# Finding Duplicates"
      ],
      "metadata": {
        "id": "e31LCdB5G5p0"
      }
    },
    {
      "cell_type": "code",
      "source": [
        "# Check duplicate rows\n",
        "dup_data=df_realestate.duplicated(['month','town','flat_type','block','street_name','storey_range','floor_area_sqm','flat_model','lease_commence_date'],\n",
        "                     keep=False)\n",
        "dup_data.sum()"
      ],
      "metadata": {
        "colab": {
          "base_uri": "https://localhost:8080/"
        },
        "id": "x0i3grjaG9rn",
        "outputId": "e231ff27-13f4-446f-e9fa-1a43f4301a87"
      },
      "execution_count": 5,
      "outputs": [
        {
          "output_type": "execute_result",
          "data": {
            "text/plain": [
              "853"
            ]
          },
          "metadata": {},
          "execution_count": 5
        }
      ]
    },
    {
      "cell_type": "code",
      "execution_count": 4,
      "metadata": {
        "id": "jeUCiAfZ2Tto"
      },
      "outputs": [],
      "source": [
        "df_realestate.drop_duplicates(subset=['month','town','flat_type','block','street_name','storey_range','floor_area_sqm','flat_model','lease_commence_date'],\n",
        "                     keep=False, inplace=True)"
      ]
    },
    {
      "cell_type": "markdown",
      "source": [
        "# Finding Zero Values"
      ],
      "metadata": {
        "id": "1X6mWvHeJ22l"
      }
    },
    {
      "cell_type": "code",
      "source": [
        "col_with_zero = []\n",
        "for i in df_realestate.columns:\n",
        "    perc_zero = (df_realestate[i]==0).mean()*100\n",
        "    col_with_zero.append((i,perc_zero))\n",
        "\n",
        "zero_percent = pd.DataFrame(col_with_zero,columns=['column_name','zero_percentage']).sort_values(\"zero_percentage\",ascending=False)\n",
        "zero_percent"
      ],
      "metadata": {
        "id": "JjdACkhnHvRa"
      },
      "execution_count": null,
      "outputs": []
    },
    {
      "cell_type": "markdown",
      "source": [
        "# EDA"
      ],
      "metadata": {
        "id": "_VC0z7aRBvuj"
      }
    },
    {
      "cell_type": "markdown",
      "metadata": {
        "id": "ile_gmx5Wn6Z"
      },
      "source": [
        "# Finding Outliers"
      ]
    },
    {
      "cell_type": "code",
      "source": [
        "df_realestate.info()"
      ],
      "metadata": {
        "id": "jRADjggVWHY2"
      },
      "execution_count": null,
      "outputs": []
    },
    {
      "cell_type": "code",
      "execution_count": null,
      "metadata": {
        "id": "oWvCvq-ByYSg"
      },
      "outputs": [],
      "source": [
        "df_realestate['flat_model'].unique()"
      ]
    },
    {
      "cell_type": "code",
      "execution_count": 6,
      "metadata": {
        "id": "Uzz-ahAAyg6Q"
      },
      "outputs": [],
      "source": [
        "# Mapping with exact values\n",
        "mapping= {'IMPROVED':'Improved', 'NEW GENERATION':'New Generation','MODEL A':'Model A',\n",
        "          'STANDARD':'Standard', 'SIMPLIFIED':'Simplified',\n",
        "          'MODEL A-MAISONETTE':'Model A-Maisonette','APARTMENT':'Apartment','MAISONETTE':'Maisonette','TERRACE':'Terrace',\n",
        "          '2-ROOM':'2-room','IMPROVED-MAISONETTE':'Improved-Maisonette','MULTI GENERATION':'Multi Generation',\n",
        "          'PREMIUM APARTMENT':'Premium Apartment', 'Improved':'Improved',\n",
        "          'New Generation':'New Generation',  'Model A':'Model A','Standard':'Standard',\n",
        "          'Apartment':'Apartment',      'Simplified':'Simplified',\n",
        "          'Model A-Maisonette':'Model A-Maisonette',\n",
        "          'Maisonette':'Maisonette','Multi Generation':'Multi Generation',\n",
        "          'Adjoined flat':'Adjoined flat', 'Premium Apartment':'Premium Apartment',\n",
        "          'Terrace':'Terrace',  'Improved-Maisonette':'Improved-Maisonette',\n",
        "          'Premium Maisonette':'Premium Maisonette','2-room':'2-room',\n",
        "          'Model A2':'Model A2','DBSS':'DBSS','Type S1':'Type S1','Type S2':'Type S2',\n",
        "          'Premium Apartment Loft':'Premium Apartment',\n",
        "          '3Gen':'3Gen'}\n",
        "df_realestate['flat_model'] = df_realestate['flat_model'].map(mapping)"
      ]
    },
    {
      "cell_type": "code",
      "execution_count": null,
      "metadata": {
        "id": "567xeEA67sGM"
      },
      "outputs": [],
      "source": [
        "df_realestate['flat_model'].unique()"
      ]
    },
    {
      "cell_type": "code",
      "execution_count": null,
      "metadata": {
        "id": "E4jqR7dDwezj"
      },
      "outputs": [],
      "source": [
        "df_realestate['flat_type'].unique()"
      ]
    },
    {
      "cell_type": "code",
      "execution_count": 7,
      "metadata": {
        "id": "pzeVeRe2wwlX"
      },
      "outputs": [],
      "source": [
        "mapping= {'MULTI-GENERATION':'MULTI GENERATION', 'MULTI GENERATION':'MULTI GENERATION',\n",
        "          '1 ROOM':'1 ROOM', '2 ROOM':'2 ROOM', '3 ROOM':'3 ROOM',\n",
        "          '4 ROOM':'4 ROOM', '5 ROOM':'5 ROOM', 'EXECUTIVE':'EXECUTIVE'}\n",
        "df_realestate['flat_type'] = df_realestate['flat_type'].map(mapping)"
      ]
    },
    {
      "cell_type": "code",
      "source": [
        "# split month col into year and month col\n",
        "df_realestate['sale_year']=df_realestate['month'].apply(lambda x:x.split('-')[0])\n",
        "df_realestate['sale_month']=df_realestate['month'].apply(lambda x:x.split('-')[1])"
      ],
      "metadata": {
        "id": "kHowgOiYamWU"
      },
      "execution_count": 8,
      "outputs": []
    },
    {
      "cell_type": "code",
      "source": [
        "# drop month, street name col\n",
        "df_realestate.drop('month',axis=1,inplace=True)\n",
        "df_realestate.drop('street_name',axis=1,inplace=True)"
      ],
      "metadata": {
        "id": "BEKDt4HVb2Zu"
      },
      "execution_count": 9,
      "outputs": []
    },
    {
      "cell_type": "code",
      "source": [
        "df_realestate['storey_range'].unique()"
      ],
      "metadata": {
        "colab": {
          "base_uri": "https://localhost:8080/"
        },
        "id": "4PO4F3LHxem5",
        "outputId": "84725df3-ce33-4f5d-e4aa-0172fac036f9"
      },
      "execution_count": 27,
      "outputs": [
        {
          "output_type": "execute_result",
          "data": {
            "text/plain": [
              "array(['04 TO 06', '07 TO 09', '01 TO 03', '10 TO 12', '13 TO 15',\n",
              "       '19 TO 21', '16 TO 18', '25 TO 27', '22 TO 24', '28 TO 30',\n",
              "       '31 TO 33', '40 TO 42', '37 TO 39', '34 TO 36', '06 TO 10',\n",
              "       '01 TO 05', '11 TO 15', '16 TO 20', '21 TO 25', '26 TO 30',\n",
              "       '36 TO 40', '31 TO 35', '46 TO 48', '43 TO 45', '49 TO 51'],\n",
              "      dtype=object)"
            ]
          },
          "metadata": {},
          "execution_count": 27
        }
      ]
    },
    {
      "cell_type": "code",
      "source": [
        "# Storey range diff is 3 for all the rows\n",
        "df_realestate.drop('storey_range',axis=1,inplace=True)"
      ],
      "metadata": {
        "id": "a4Mz-qs9x5sY"
      },
      "execution_count": 10,
      "outputs": []
    },
    {
      "cell_type": "code",
      "source": [
        "# replace block col with only number\n",
        "lis=['A','B','C','D','E','F','J','G','H','I','K','L','M','N','O','P','Q','R','S','T','U','V','W','X','Y','Z']\n",
        "for i in lis:\n",
        "    df_realestate['block']=df_realestate['block'].replace(i,'',regex=True)"
      ],
      "metadata": {
        "id": "13NZr3Fa0-YL"
      },
      "execution_count": 11,
      "outputs": []
    },
    {
      "cell_type": "code",
      "source": [
        "df_realestate['block'].value_counts()"
      ],
      "metadata": {
        "id": "3k6ioKXfyNb_"
      },
      "execution_count": null,
      "outputs": []
    },
    {
      "cell_type": "code",
      "source": [
        "# change into number\n",
        "df_realestate['block']=df_realestate['block'].astype(int)"
      ],
      "metadata": {
        "id": "tzSw-5az0lZc"
      },
      "execution_count": 12,
      "outputs": []
    },
    {
      "cell_type": "code",
      "source": [
        "df_realestate.info()"
      ],
      "metadata": {
        "id": "Htdl2ev5wx1Y"
      },
      "execution_count": null,
      "outputs": []
    },
    {
      "cell_type": "code",
      "source": [
        "df_realestate.head(3)"
      ],
      "metadata": {
        "id": "bFOlIcQYbqd3"
      },
      "execution_count": null,
      "outputs": []
    },
    {
      "cell_type": "code",
      "source": [
        "# change year and month into number\n",
        "df_realestate['sale_year']=df_realestate['sale_year'].astype(int)\n",
        "df_realestate['sale_month']=df_realestate['sale_month'].astype(int)"
      ],
      "metadata": {
        "id": "Jrh87M6iw2gN"
      },
      "execution_count": 13,
      "outputs": []
    },
    {
      "cell_type": "code",
      "source": [
        "#  identity duplicates based on below col values\n",
        "dup_data=df_realestate.duplicated(['town','flat_type','block','floor_area_sqm','flat_model','lease_commence_date','resale_price','sale_year','sale_month'],\n",
        "                     keep=False)\n",
        "dup_data.sum()"
      ],
      "metadata": {
        "colab": {
          "base_uri": "https://localhost:8080/"
        },
        "id": "dLO9g5JMywRh",
        "outputId": "ea2e734e-a998-48dd-b0e8-f8c9ed7675db"
      },
      "execution_count": 33,
      "outputs": [
        {
          "output_type": "execute_result",
          "data": {
            "text/plain": [
              "5868"
            ]
          },
          "metadata": {},
          "execution_count": 33
        }
      ]
    },
    {
      "cell_type": "code",
      "source": [
        "# drop duplicates\n",
        "df_realestate.drop_duplicates(subset=['town','flat_type','block','floor_area_sqm','flat_model','lease_commence_date','resale_price','sale_year','sale_month'],\n",
        "                     keep=False, inplace=True)"
      ],
      "metadata": {
        "id": "7FOEPgKiyvA5"
      },
      "execution_count": 14,
      "outputs": []
    },
    {
      "cell_type": "code",
      "source": [
        "# encoding object columns town and flat model\n",
        "lab_encoder = LabelEncoder()\n",
        "df_realestate_1=df_realestate.copy()\n",
        "for i in df_realestate_1.select_dtypes(include=['object']).columns:\n",
        "    df_realestate_1[i] = lab_encoder.fit_transform(df_realestate_1[i])"
      ],
      "metadata": {
        "id": "OU-Pd1bSY2J_"
      },
      "execution_count": 15,
      "outputs": []
    },
    {
      "cell_type": "code",
      "source": [
        "df_realestate_1.info()"
      ],
      "metadata": {
        "id": "08lfovHwZhJ1"
      },
      "execution_count": null,
      "outputs": []
    },
    {
      "cell_type": "code",
      "source": [
        "plt.figure(figsize=(16,6))\n",
        "sns.boxplot(df_realestate_1)\n",
        "plt.show()"
      ],
      "metadata": {
        "colab": {
          "base_uri": "https://localhost:8080/",
          "height": 397
        },
        "id": "YVq3LjlPTWE7",
        "outputId": "1a8a85df-43ec-4294-886e-b2dbff6f8d62"
      },
      "execution_count": 17,
      "outputs": [
        {
          "output_type": "display_data",
          "data": {
            "text/plain": [
              "<Figure size 1600x600 with 1 Axes>"
            ],
            "image/png": "[encoded data removed]"
          },
          "metadata": {}
        }
      ]
    },
    {
      "cell_type": "code",
      "source": [
        "# drop floor area sqm null values\n",
        "df_realestate_1.dropna(subset=['floor_area_sqm'], inplace=True)"
      ],
      "metadata": {
        "id": "dNQc7LfltUZS"
      },
      "execution_count": 19,
      "outputs": []
    },
    {
      "cell_type": "markdown",
      "metadata": {
        "id": "t1s79KRqlYeC"
      },
      "source": [
        "## Feature Selection"
      ]
    },
    {
      "cell_type": "code",
      "execution_count": null,
      "metadata": {
        "id": "PjSCd6Q2sh2o"
      },
      "outputs": [],
      "source": [
        "# Corr\n",
        "corr_data = df_realestate_1.corr()\n",
        "plt.figure(figsize=(16,6))\n",
        "sns.heatmap(corr_data,annot=True,cmap=\"coolwarm\",fmt=\".2f\")"
      ]
    },
    {
      "cell_type": "code",
      "source": [
        "# flat type and floor areq sqm is highly correlated.\n",
        "# so we can drop flat type\n",
        "df_realestate_1.drop(\"flat_type\", axis=1, inplace=True)"
      ],
      "metadata": {
        "id": "NQfH3s0d1T28"
      },
      "execution_count": 20,
      "outputs": []
    },
    {
      "cell_type": "markdown",
      "metadata": {
        "id": "CA1nScSxCw6p"
      },
      "source": [
        "# Resale Price Prediction - Regression Model"
      ]
    },
    {
      "cell_type": "code",
      "execution_count": 21,
      "metadata": {
        "id": "DidokQUjDElg"
      },
      "outputs": [],
      "source": [
        "y = df_realestate_1['resale_price']\n",
        "x = df_realestate_1.drop('resale_price', axis =1)"
      ]
    },
    {
      "cell_type": "code",
      "execution_count": 22,
      "metadata": {
        "colab": {
          "base_uri": "https://localhost:8080/"
        },
        "id": "p_eiPwz4C5Bt",
        "outputId": "00196f26-5450-4c2c-ca18-a721604d0bd3"
      },
      "outputs": [
        {
          "output_type": "execute_result",
          "data": {
            "text/plain": [
              "((679393, 7), (169849, 7), (679393,), (169849,))"
            ]
          },
          "metadata": {},
          "execution_count": 22
        }
      ],
      "source": [
        "from sklearn.model_selection import train_test_split\n",
        "x_train,x_test,y_train,y_test = train_test_split(x,y,test_size=0.2,random_state=42)\n",
        "x_train.shape,x_test.shape,y_train.shape,y_test.shape"
      ]
    },
    {
      "cell_type": "code",
      "execution_count": 23,
      "metadata": {
        "id": "MaLohG8b0uPU"
      },
      "outputs": [],
      "source": [
        "from sklearn.metrics import accuracy_score, confusion_matrix\n",
        "from sklearn import metrics"
      ]
    },
    {
      "cell_type": "markdown",
      "source": [
        "# **Checking with differnet regression models**"
      ],
      "metadata": {
        "id": "gJpHORa2FIhX"
      }
    },
    {
      "cell_type": "code",
      "execution_count": null,
      "metadata": {
        "id": "T42E1YJq0u14"
      },
      "outputs": [],
      "source": [
        "from sklearn.ensemble import RandomForestRegressor\n",
        "model_rfr = RandomForestRegressor(n_estimators=23, random_state=40)\n",
        "model_rfr.fit(x_train, y_train)\n",
        "y_pred= model_rfr.predict(x_test)\n",
        "print(\"MAE:\",metrics.mean_absolute_error(y_test, y_pred))\n",
        "print(\"MSE:\",metrics.mean_squared_error(y_test, y_pred))\n",
        "print(\"R2 Score:\",metrics.r2_score(y_test, y_pred))"
      ]
    },
    {
      "cell_type": "code",
      "execution_count": null,
      "metadata": {
        "id": "tZaAP0Zzpuok"
      },
      "outputs": [],
      "source": [
        "from sklearn.linear_model import LinearRegression\n",
        "model_lr = LinearRegression().fit(x_train, y_train)\n",
        "y_pred= model_lr.predict(x_test)\n",
        "print(\"MAE:\",metrics.mean_absolute_error(y_test, y_pred))\n",
        "print(\"MSE:\",metrics.mean_squared_error(y_test, y_pred))\n",
        "print(\"R2 Score:\",metrics.r2_score(y_test, y_pred))"
      ]
    },
    {
      "cell_type": "code",
      "execution_count": null,
      "metadata": {
        "id": "vEpB_blx0vFE"
      },
      "outputs": [],
      "source": [
        "from sklearn.tree import DecisionTreeRegressor\n",
        "model_dtr = DecisionTreeRegressor().fit(x_train, y_train)\n",
        "y_pred=model_dtr.predict(x_test)\n",
        "print(metrics.mean_absolute_error(y_test, y_pred))\n",
        "print(metrics.mean_squared_error(y_test, y_pred))\n",
        "print(\"R2 Score:\",metrics.r2_score(y_test, y_pred))"
      ]
    },
    {
      "cell_type": "code",
      "execution_count": null,
      "metadata": {
        "id": "aMAdc2b-HmL5"
      },
      "outputs": [],
      "source": [
        "from sklearn.ensemble import GradientBoostingRegressor\n",
        "model_gbr = GradientBoostingRegressor().fit(x_train, y_train)\n",
        "y_pred= model_gbr.predict(x_test)\n",
        "print(\"MAE:\",metrics.mean_absolute_error(y_test, y_pred))\n",
        "print(\"MSE:\",metrics.mean_squared_error(y_test, y_pred))\n",
        "print(\"R2 Score:\",metrics.r2_score(y_test, y_pred))"
      ]
    },
    {
      "cell_type": "code",
      "execution_count": null,
      "metadata": {
        "id": "7fJTSkeVH_xi"
      },
      "outputs": [],
      "source": [
        "from sklearn.ensemble import AdaBoostRegressor\n",
        "model_abr = AdaBoostRegressor().fit(x_train, y_train)\n",
        "y_pred= model_abr.predict(x_test)\n",
        "print(\"MAE:\",metrics.mean_absolute_error(y_test, y_pred))\n",
        "print(\"MSE:\",metrics.mean_squared_error(y_test, y_pred))\n",
        "print(\"R2 Score:\",metrics.r2_score(y_test, y_pred))"
      ]
    },
    {
      "cell_type": "code",
      "execution_count": null,
      "metadata": {
        "id": "-hisAd7wI038"
      },
      "outputs": [],
      "source": [
        "from sklearn.ensemble import HistGradientBoostingRegressor\n",
        "model_hgbr = HistGradientBoostingRegressor ().fit(x_train, y_train)\n",
        "y_pred= model_hgbr.predict(x_test)\n",
        "print(\"MAE:\",metrics.mean_absolute_error(y_test, y_pred))\n",
        "print(\"MSE:\",metrics.mean_squared_error(y_test, y_pred))\n",
        "print(\"R2 Score:\",metrics.r2_score(y_test, y_pred))"
      ]
    },
    {
      "cell_type": "code",
      "source": [
        "# Random forest regression model is selected as best model\n",
        "# it gives the best r2 score"
      ],
      "metadata": {
        "id": "HHbQ3C8lFVuJ"
      },
      "execution_count": null,
      "outputs": []
    },
    {
      "cell_type": "code",
      "source": [
        "# Test data1\n",
        "test_data=np.array([[26.0,\t834,142,3,1988,2023,12]])\n",
        "y_pred=model_rfr.predict(test_data)\n",
        "print(\"SP:\",y_pred[0])"
      ],
      "metadata": {
        "id": "dZAZRv_6jwo_"
      },
      "execution_count": null,
      "outputs": []
    },
    {
      "cell_type": "code",
      "source": [
        "# Test data2\n",
        "test_data=np.array([[0,235,67,12,1977,1990,1]])\n",
        "y_pred=model_rfr.predict(test_data)\n",
        "print(\"SP:\",y_pred[0])"
      ],
      "metadata": {
        "id": "5TCUUQGD47Ic"
      },
      "execution_count": null,
      "outputs": []
    },
    {
      "cell_type": "markdown",
      "source": [
        "# **Create Pickle file**"
      ],
      "metadata": {
        "id": "EAl4wAYG44fc"
      }
    },
    {
      "cell_type": "code",
      "execution_count": 29,
      "metadata": {
        "id": "FmWihBCZPx0X"
      },
      "outputs": [],
      "source": [
        "import pickle\n",
        "with open('/content/regression_model.pkl', 'wb') as f:\n",
        "    pickle.dump(model_rfr, f)"
      ]
    },
    {
      "cell_type": "code",
      "source": [
        "test_data=np.array([[0,235,67,12,1977,1990,1]])\n",
        "with open('/content/regression_model.pkl', 'rb') as f:\n",
        "    model = pickle.load(f)\n",
        "y_pred = model.predict(test_data)\n",
        "y_pred[0]"
      ],
      "metadata": {
        "id": "m23l5kBtsbsR"
      },
      "execution_count": null,
      "outputs": []
    },
    {
      "cell_type": "code",
      "execution_count": null,
      "metadata": {
        "id": "VcyNEKhaWWdu"
      },
      "outputs": [],
      "source": [
        "pip install streamlit"
      ]
    },
    {
      "cell_type": "code",
      "source": [
        "df_realestate_1.info()"
      ],
      "metadata": {
        "id": "_h-vmVzD_3Px"
      },
      "execution_count": null,
      "outputs": []
    },
    {
      "cell_type": "code",
      "source": [
        "df_realestate"
      ],
      "metadata": {
        "id": "4aEqu25j_xdG"
      },
      "execution_count": null,
      "outputs": []
    },
    {
      "cell_type": "markdown",
      "source": [
        "# **Streamlit file**"
      ],
      "metadata": {
        "id": "16e5dRmsFolQ"
      }
    },
    {
      "cell_type": "code",
      "execution_count": 48,
      "metadata": {
        "colab": {
          "base_uri": "https://localhost:8080/"
        },
        "id": "HFaW88e3MbIb",
        "outputId": "9972d636-de10-4916-98fc-30c008133b65"
      },
      "outputs": [
        {
          "output_type": "stream",
          "name": "stdout",
          "text": [
            "Overwriting app.py\n"
          ]
        }
      ],
      "source": [
        "# Streamlit file for deployment\n",
        "%%writefile app.py\n",
        "import numpy as np\n",
        "import pickle\n",
        "import streamlit as st\n",
        "from PIL import Image\n",
        "from sklearn.preprocessing import LabelEncoder\n",
        "\n",
        "#streamlit  page setting\n",
        "icon = Image.open(\"house.jpg\")\n",
        "st.set_page_config(page_title= \"Real Estate - Kavitha\",\n",
        "                page_icon= icon,\n",
        "                layout= \"wide\",\n",
        "                initial_sidebar_state= \"expanded\",\n",
        "                )\n",
        "\n",
        "st.subheader(\":blue[Singapore Real Estate]\")\n",
        "tab1,tab2=st.tabs([\":blue[Resale Price]\",\":blue[About]\"])\n",
        "\n",
        "with tab1:\n",
        "  col1,col2,col3=st.columns(3)\n",
        "\n",
        "  with col1:\n",
        "    txt_town=st.text_input(\"Enter Town\")\n",
        "    txt_block=st.number_input(\"Enter Block : \")\n",
        "    txt_floor_area_sqm=st.number_input(\"Enter the Floor Area sqm:\")\n",
        "\n",
        "  with col2:\n",
        "    txt_flat_model=st.text_input(\"Enter the Flat Model:\")\n",
        "    txt_lease_commence_date=st.number_input(\"Enter Lease Commence Date:\")\n",
        "\n",
        "  with col3:\n",
        "    txt_sale_year=st.number_input(\"Enter the sale year\")\n",
        "    txt_sale_month=st.number_input(\"Enter the sale month\")\n",
        "\n",
        "\n",
        "\n",
        "  label_encoder = LabelEncoder()\n",
        "  label_encoder.fit([txt_town])\n",
        "  encoded_town=label_encoder.transform([txt_town])\n",
        "\n",
        "  label_encoder.fit([txt_flat_model])\n",
        "  encoded_flat_model = label_encoder.transform([txt_flat_model])\n",
        "\n",
        "  if st.button(\"Predict Selling Price\", key=\"predict\"):\n",
        "\n",
        "      # make array for all user input values in required order for model prediction\n",
        "      user_data = np.array([[int(encoded_town[0]),int(txt_block),\n",
        "                          float(txt_floor_area_sqm),int(encoded_flat_model[0]),int(txt_lease_commence_date),\n",
        "                          int(txt_sale_year),int(txt_sale_month)]])\n",
        "\n",
        "      # load the regression pickle model\n",
        "      with open('/content/regression_model.pkl', 'rb') as f:\n",
        "          model = pickle.load(f)\n",
        "\n",
        "      # model predict the selling price based on user input\n",
        "      y_pred = model.predict(user_data)\n",
        "\n",
        "      # inverse transformation for log transformation data\n",
        "      selling_price = y_pred[0]\n",
        "\n",
        "      # round the value with 2 decimal point\n",
        "      selling_price = round(selling_price, 2)\n",
        "      st.write(\"Predicted Selling Price: \", selling_price)\n",
        "\n",
        "\n",
        "with tab2:\n",
        "    st.caption(\":blue[Overview:]\")\n",
        "    st.caption(\":blue[Original Copper dataset has null and zero values]\")\n",
        "    st.caption(\":blue[Data Cleaning has done for the all the null values and negative values]\")\n",
        "    st.caption(\":blue[log transformation is applied for selling price prediction]\")\n",
        "    st.caption(\":blue[3 features(quantity tons, width and thickness) has been taken for selling price prediction]\")\n",
        "    st.caption(\":blue[Won and lost status has been taken for prediction other status data has been removed]\")\n",
        "    st.caption(\":blue[all features has been taken for status prediction except item date and delivery date]\")"
      ]
    },
    {
      "cell_type": "code",
      "source": [
        "!npm install localtunnel"
      ],
      "metadata": {
        "id": "H9Dvs6smydtD"
      },
      "execution_count": null,
      "outputs": []
    },
    {
      "cell_type": "code",
      "execution_count": null,
      "metadata": {
        "id": "mf830BBHg0gs"
      },
      "outputs": [],
      "source": [
        "!streamlit run /content/app.py &>/content/logs.txt & npx localtunnel --port 8501 & curl ipv4.icanhazip.com"
      ]
    }
  ],
  "metadata": {
    "colab": {
      "provenance": [],
      "authorship_tag": "ABX9TyOr3gfXrGnIVli0FEiwUz98"
    },
    "kernelspec": {
      "display_name": "Python 3",
      "name": "python3"
    },
    "language_info": {
      "name": "python"
    }
  },
  "nbformat": 4,
  "nbformat_minor": 0
}